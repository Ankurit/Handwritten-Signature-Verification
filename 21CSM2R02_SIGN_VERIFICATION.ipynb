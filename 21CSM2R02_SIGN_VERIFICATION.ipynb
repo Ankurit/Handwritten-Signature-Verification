{
  "cells": [
    {
      "cell_type": "code",
      "execution_count": null,
      "metadata": {
        "id": "jxACUv3UAe07"
      },
      "outputs": [],
      "source": [
        "/content/drive/MyDrive/DL PROJECT /final dataset/BHSig260/Hindi"
      ]
    },
    {
      "cell_type": "code",
      "execution_count": null,
      "metadata": {
        "colab": {
          "base_uri": "https://localhost:8080/"
        },
        "id": "x5pGNingBCZv",
        "outputId": "6fd9937b-e10e-42b9-a027-aea736088def"
      },
      "outputs": [
        {
          "name": "stdout",
          "output_type": "stream",
          "text": [
            "/content/drive/MyDrive/DL PROJECT /final dataset/BHSig260/gray\n"
          ]
        }
      ],
      "source": [
        "%cd \"/content/drive/MyDrive/DL PROJECT /final dataset/BHSig260/gray/\""
      ]
    },
    {
      "cell_type": "code",
      "execution_count": null,
      "metadata": {
        "id": "K_wGE6AGDDPa"
      },
      "outputs": [],
      "source": [
        "import cv2\n",
        "\n",
        "import os,glob\n",
        "\n",
        "from os import listdir,makedirs\n",
        "\n",
        "from os.path import isfile,join\n",
        "#path = '/content/drive/MyDrive/DL PROJECT /final dataset/BHSig260/Hindi/' # Source Folder\n",
        "#dstpath = '/content/drive/MyDrive/DL PROJECT /final dataset/BHSig260/gray/' # Destination Folder\n",
        "\n",
        "# Folder won't used\n",
        "\n",
        "for i in range(1,161):\n",
        "  path = '/content/drive/MyDrive/DL PROJECT /final dataset/BHSig260/Hindi/{:03d}'.format(i)\n",
        "  dstpath = '/content/drive/MyDrive/DL PROJECT /final dataset/BHSig260/gray/{:03d}'.format(i)\n",
        "  files = list(filter(lambda f: isfile(join(path,f)), listdir(path)))\n",
        "  makedirs(dstpath)\n",
        "  for image in files:\n",
        "    try:\n",
        "      img = cv2.imread(os.path.join(path,image))\n",
        "      gray = cv2.cvtColor(img,cv2.COLOR_BGR2GRAY)\n",
        "      dstPath = join(dstpath,image)\n",
        "      cv2.imwrite(dstPath,gray)\n",
        "    except:\n",
        "      print (\"{} is not converted\".format(image))"
      ]
    },
    {
      "cell_type": "code",
      "execution_count": null,
      "metadata": {
        "colab": {
          "base_uri": "https://localhost:8080/"
        },
        "id": "1q-CxlksHRee",
        "outputId": "fc5cc399-9453-4b8e-b032-b04a7d296f15"
      },
      "outputs": [
        {
          "name": "stdout",
          "output_type": "stream",
          "text": [
            "Drive already mounted at /content/drive; to attempt to forcibly remount, call drive.mount(\"/content/drive\", force_remount=True).\n"
          ]
        }
      ],
      "source": [
        "from google.colab import drive\n",
        "drive.mount('/content/drive')"
      ]
    },
    {
      "cell_type": "code",
      "execution_count": null,
      "metadata": {
        "id": "re7v26O1wjvw"
      },
      "outputs": [],
      "source": [
        "import sys\n",
        "import numpy as np\n",
        "import pickle\n",
        "import os\n",
        "import matplotlib.pyplot as plt\n",
        "%matplotlib inline\n",
        "\n",
        "import cv2\n",
        "import time\n",
        "import itertools\n",
        "import random\n",
        "\n",
        "from sklearn.utils import shuffle\n",
        "\n",
        "import tensorflow as tf\n",
        "from keras.models import Sequential\n",
        "from tensorflow.keras.optimizers import Adam, RMSprop\n",
        "from keras.layers import Conv2D, ZeroPadding2D, Activation, Input, concatenate, Dropout\n",
        "from keras.models import Model\n",
        "\n",
        "#from tensorflow.keras.layers.normalization import BatchNormalization\n",
        "#import tensorflow.keras.layers.BatchNormalization\n",
        "from tensorflow.keras.layers import BatchNormalization\n",
        "from keras.layers.pooling import MaxPooling2D\n",
        "from keras.layers.merge import Concatenate\n",
        "from keras.layers.core import Lambda, Flatten, Dense\n",
        "from keras.initializers import glorot_uniform\n",
        "\n",
        "from tensorflow.keras.layers import Layer, InputSpec\n",
        "from keras.regularizers import l2\n",
        "from keras import backend as K\n",
        "from keras.callbacks import EarlyStopping, ModelCheckpoint, ReduceLROnPlateau"
      ]
    },
    {
      "cell_type": "code",
      "execution_count": null,
      "metadata": {
        "id": "3Xq95YjNxqV3"
      },
      "outputs": [],
      "source": [
        "from tensorflow.keras.models import Sequential\n",
        "from tensorflow.keras.layers import (\n",
        "    BatchNormalization, SeparableConv2D, MaxPooling2D, Activation, Flatten, Dropout, Dense\n",
        ")\n",
        "from tensorflow.keras import backend as K\n"
      ]
    },
    {
      "cell_type": "code",
      "execution_count": null,
      "metadata": {
        "colab": {
          "base_uri": "https://localhost:8080/"
        },
        "id": "xaciv9ERw4cu",
        "outputId": "930e7d92-abe8-426f-c08a-f5d10e351a9e"
      },
      "outputs": [
        {
          "output_type": "stream",
          "name": "stdout",
          "text": [
            "Found GPU at: /device:GPU:0\n"
          ]
        }
      ],
      "source": [
        "%tensorflow_version 2.x\n",
        "import tensorflow as tf\n",
        "device_name = tf.test.gpu_device_name()\n",
        "if device_name != '/device:GPU:0':\n",
        "  raise SystemError('GPU device not found')\n",
        "print('Found GPU at: {}'.format(device_name))"
      ]
    },
    {
      "cell_type": "code",
      "execution_count": null,
      "metadata": {
        "colab": {
          "base_uri": "https://localhost:8080/"
        },
        "id": "_WC9QQ4zw7Gp",
        "outputId": "e4960969-d993-4d32-ba38-4c92958c2fa8"
      },
      "outputs": [
        {
          "output_type": "stream",
          "name": "stdout",
          "text": [
            "Time (s) to convolve 32x7x7x3 filter over random 100x100x100x3 images (batch x height x width x channel). Sum of ten runs.\n",
            "CPU (s):\n",
            "2.9118622189999996\n",
            "GPU (s):\n",
            "0.037720017999987476\n",
            "GPU speedup over CPU: 77x\n"
          ]
        }
      ],
      "source": [
        "%tensorflow_version 2.x\n",
        "import tensorflow as tf\n",
        "import timeit\n",
        "\n",
        "device_name = tf.test.gpu_device_name()\n",
        "if device_name != '/device:GPU:0':\n",
        "  print(\n",
        "      '\\n\\nThis error most likely means that this notebook is not '\n",
        "      'configured to use a GPU.  Change this in Notebook Settings via the '\n",
        "      'command palette (cmd/ctrl-shift-P) or the Edit menu.\\n\\n')\n",
        "  raise SystemError('GPU device not found')\n",
        "\n",
        "def cpu():\n",
        "  with tf.device('/cpu:0'):\n",
        "    random_image_cpu = tf.random.normal((100, 100, 100, 3))\n",
        "    net_cpu = tf.keras.layers.Conv2D(32, 7)(random_image_cpu)\n",
        "    return tf.math.reduce_sum(net_cpu)\n",
        "\n",
        "def gpu():\n",
        "  with tf.device('/device:GPU:0'):\n",
        "    random_image_gpu = tf.random.normal((100, 100, 100, 3))\n",
        "    net_gpu = tf.keras.layers.Conv2D(32, 7)(random_image_gpu)\n",
        "    return tf.math.reduce_sum(net_gpu)\n",
        "  \n",
        "# We run each op once to warm up; see: https://stackoverflow.com/a/45067900\n",
        "cpu()\n",
        "gpu()\n",
        "\n",
        "# Run the op several times.\n",
        "print('Time (s) to convolve 32x7x7x3 filter over random 100x100x100x3 images '\n",
        "      '(batch x height x width x channel). Sum of ten runs.')\n",
        "print('CPU (s):')\n",
        "cpu_time = timeit.timeit('cpu()', number=10, setup=\"from __main__ import cpu\")\n",
        "print(cpu_time)\n",
        "print('GPU (s):')\n",
        "gpu_time = timeit.timeit('gpu()', number=10, setup=\"from __main__ import gpu\")\n",
        "print(gpu_time)\n",
        "print('GPU speedup over CPU: {}x'.format(int(cpu_time/gpu_time)))"
      ]
    },
    {
      "cell_type": "code",
      "execution_count": null,
      "metadata": {
        "id": "oKTzQ7IEEMcz"
      },
      "outputs": [],
      "source": [
        "import numpy as np\n",
        "import pickle\n",
        "import pandas as pd\n",
        "from sklearn.metrics import accuracy_score\n",
        "from tqdm import tqdm_notebook as tqdm\n",
        "from sklearn.metrics import confusion_matrix\n",
        "import seaborn as sn\n",
        "import pandas as pd\n",
        "import matplotlib.pyplot as plt\n",
        "from sklearn.model_selection import train_test_split\n",
        "import random\n",
        "from scipy.spatial import distance\n",
        "from sklearn import svm\n",
        "from sklearn.linear_model import LogisticRegression\n",
        "from sklearn.metrics import precision_recall_fscore_support\n",
        "from sklearn.ensemble import RandomForestClassifier\n",
        "import warnings\n",
        "warnings.filterwarnings('ignore')"
      ]
    },
    {
      "cell_type": "code",
      "execution_count": null,
      "metadata": {
        "id": "e00tRUCqwjv9"
      },
      "outputs": [],
      "source": [
        "path1 = \"/content/drive/MyDrive/DL PROJECT /final dataset/BHSig260/gray/\"\n",
        "path = \"/content/drive/MyDrive/DL PROJECT /final dataset/BHSig260/Hindi/\""
      ]
    },
    {
      "cell_type": "code",
      "execution_count": null,
      "metadata": {
        "id": "q4PnfmY8wjv-"
      },
      "outputs": [],
      "source": [
        "# Get the list of all directories and sort them\n",
        "dir_list = next(os.walk(path))[1]\n",
        "dir_list.sort()\n",
        "dir_list1 = next(os.walk(path1))[1]\n",
        "dir_list1.sort()"
      ]
    },
    {
      "cell_type": "code",
      "execution_count": null,
      "metadata": {
        "id": "7Qvbm-QOwjwA"
      },
      "outputs": [],
      "source": [
        "# For each person segregate the genuine signatures from the forged signatures\n",
        "# Genuine signatures are stored in the list \"orig_groups\"\n",
        "# Forged signatures are stored in the list \"forged_groups\"\n",
        "orig_groups, forg_groups = [], []\n",
        "orig_groups_gray, forg_groups_gray = [], []\n",
        "for directory in dir_list:\n",
        "    images = os.listdir(path+directory)\n",
        "    images.sort()\n",
        "    images = [path+directory+'/'+x for x in images]\n",
        "    forg_groups.append(images[:30]) # First 30 signatures in each folder are forrged\n",
        "    orig_groups.append(images[30:]) # Next 24 signatures are genuine\n",
        "for directory in dir_list1:\n",
        "    images = os.listdir(path1+directory)\n",
        "    images.sort()\n",
        "    images = [path1+directory+'/'+x for x in images]\n",
        "    forg_groups_gray.append(images[:30]) # First 30 signatures in each folder are forrged\n",
        "    orig_groups_gray.append(images[30:]) # Next 24 signatures are genuine"
      ]
    },
    {
      "cell_type": "code",
      "execution_count": null,
      "metadata": {
        "colab": {
          "base_uri": "https://localhost:8080/"
        },
        "id": "SGD4cIe5wjwB",
        "outputId": "169f36e1-d77a-4f7b-8a9c-f9c7ccd39910"
      },
      "outputs": [
        {
          "output_type": "execute_result",
          "data": {
            "text/plain": [
              "(160, 160)"
            ]
          },
          "metadata": {},
          "execution_count": 12
        }
      ],
      "source": [
        "# Quick check to confirm we have data of all the 160 individuals\n",
        "len(orig_groups), len(forg_groups)\n"
      ]
    },
    {
      "cell_type": "code",
      "execution_count": null,
      "metadata": {
        "colab": {
          "base_uri": "https://localhost:8080/"
        },
        "id": "4uHuKrQrydzK",
        "outputId": "b7bb7c3d-be3e-4e4c-f4e7-eb7cf133a63f"
      },
      "outputs": [
        {
          "output_type": "execute_result",
          "data": {
            "text/plain": [
              "(160, 160)"
            ]
          },
          "metadata": {},
          "execution_count": 13
        }
      ],
      "source": [
        "len(orig_groups_gray), len(forg_groups_gray)"
      ]
    },
    {
      "cell_type": "code",
      "execution_count": null,
      "metadata": {
        "id": "wT36pfnvwjwE"
      },
      "outputs": [],
      "source": [
        "orig_lengths = [len(x) for x in orig_groups]\n",
        "forg_lengths = [len(x) for x in forg_groups]\n",
        "orig_lengths_gray = [len(x) for x in orig_groups_gray]\n",
        "forg_lengths_gray = [len(x) for x in forg_groups_gray]"
      ]
    },
    {
      "cell_type": "code",
      "execution_count": null,
      "metadata": {
        "colab": {
          "base_uri": "https://localhost:8080/"
        },
        "id": "yfjVymtlwjwG",
        "outputId": "9a11090a-17e5-425d-e069-a4d60018abe8"
      },
      "outputs": [
        {
          "output_type": "stream",
          "name": "stdout",
          "text": [
            "[24, 24, 24, 24, 24, 24, 24, 24, 24, 24, 24, 24, 24, 24, 24, 24, 24, 24, 24, 24, 24, 24, 24, 24, 24, 24, 24, 24, 24, 24, 24, 24, 24, 24, 24, 24, 24, 24, 24, 24, 24, 24, 24, 24, 24, 24, 24, 24, 24, 24, 24, 24, 24, 24, 24, 24, 24, 24, 24, 24, 24, 24, 24, 24, 24, 24, 24, 24, 24, 24, 24, 24, 24, 24, 24, 24, 24, 24, 24, 24, 24, 24, 24, 24, 24, 24, 24, 24, 24, 24, 24, 24, 24, 24, 24, 24, 24, 24, 24, 24, 24, 24, 24, 24, 24, 24, 24, 24, 24, 24, 24, 24, 24, 24, 24, 24, 24, 24, 24, 24, 24, 24, 24, 24, 24, 24, 24, 24, 24, 24, 24, 24, 24, 24, 24, 24, 24, 24, 24, 24, 24, 24, 24, 24, 24, 24, 24, 24, 24, 24, 24, 24, 24, 24, 24, 24, 24, 24, 24, 24]\n"
          ]
        }
      ],
      "source": [
        "# Quick check to confirm that there are 24 Genuine signatures for each individual\n",
        "print(orig_lengths)"
      ]
    },
    {
      "cell_type": "code",
      "execution_count": null,
      "metadata": {
        "colab": {
          "base_uri": "https://localhost:8080/"
        },
        "id": "5XpioyMbyqXg",
        "outputId": "95d240ba-7daa-4fd8-a459-7070415f2f1f"
      },
      "outputs": [
        {
          "output_type": "stream",
          "name": "stdout",
          "text": [
            "[24, 24, 24, 24, 24, 24, 24, 24, 24, 24, 24, 24, 24, 24, 24, 24, 24, 24, 24, 24, 24, 24, 24, 24, 24, 24, 24, 24, 24, 24, 24, 24, 24, 24, 24, 24, 24, 24, 24, 24, 24, 24, 24, 24, 24, 24, 24, 24, 24, 24, 24, 24, 24, 24, 24, 24, 24, 24, 24, 24, 24, 24, 24, 24, 24, 24, 24, 24, 24, 24, 24, 24, 24, 24, 24, 24, 24, 24, 24, 24, 24, 24, 24, 24, 24, 24, 24, 24, 24, 24, 24, 24, 24, 24, 24, 24, 24, 24, 24, 24, 24, 24, 24, 24, 24, 24, 24, 24, 24, 24, 24, 24, 24, 24, 24, 24, 24, 24, 24, 24, 24, 24, 24, 24, 24, 24, 24, 24, 24, 24, 24, 24, 24, 24, 24, 24, 24, 24, 24, 24, 24, 24, 24, 24, 24, 24, 24, 24, 24, 24, 24, 24, 24, 24, 24, 24, 24, 24, 24, 24]\n"
          ]
        }
      ],
      "source": [
        "print(orig_lengths_gray)"
      ]
    },
    {
      "cell_type": "code",
      "execution_count": null,
      "metadata": {
        "colab": {
          "base_uri": "https://localhost:8080/"
        },
        "id": "KhdfT-a1wjwJ",
        "outputId": "c1b87b86-5812-49a6-e0ba-a910155dcfc9"
      },
      "outputs": [
        {
          "output_type": "stream",
          "name": "stdout",
          "text": [
            "[30, 30, 30, 30, 30, 30, 30, 30, 30, 30, 30, 30, 30, 30, 30, 30, 30, 30, 30, 30, 30, 30, 30, 30, 30, 30, 30, 30, 30, 30, 30, 30, 30, 30, 30, 30, 30, 30, 30, 30, 30, 30, 30, 30, 30, 30, 30, 30, 30, 30, 30, 30, 30, 30, 30, 30, 30, 30, 30, 30, 30, 30, 30, 30, 30, 30, 30, 30, 30, 30, 30, 30, 30, 30, 30, 30, 30, 30, 30, 30, 30, 30, 30, 30, 30, 30, 30, 30, 30, 30, 30, 30, 30, 30, 30, 30, 30, 30, 30, 30, 30, 30, 30, 30, 30, 30, 30, 30, 30, 30, 30, 30, 30, 30, 30, 30, 30, 30, 30, 30, 30, 30, 30, 30, 30, 30, 30, 30, 30, 30, 30, 30, 30, 30, 30, 30, 30, 30, 30, 30, 30, 30, 30, 30, 30, 30, 30, 30, 30, 30, 30, 30, 30, 30, 30, 30, 30, 30, 30, 30]\n"
          ]
        }
      ],
      "source": [
        "# Quick check to confirm that there are 30 Forged signatures for each individual\n",
        "print(forg_lengths)"
      ]
    },
    {
      "cell_type": "code",
      "execution_count": null,
      "metadata": {
        "colab": {
          "base_uri": "https://localhost:8080/"
        },
        "id": "zYzHSJeYyuqZ",
        "outputId": "1b47dec1-179d-4008-fb7b-fd3ee96cfa59"
      },
      "outputs": [
        {
          "output_type": "stream",
          "name": "stdout",
          "text": [
            "[30, 30, 30, 30, 30, 30, 30, 30, 30, 30, 30, 30, 30, 30, 30, 30, 30, 30, 30, 30, 30, 30, 30, 30, 30, 30, 30, 30, 30, 30, 30, 30, 30, 30, 30, 30, 30, 30, 30, 30, 30, 30, 30, 30, 30, 30, 30, 30, 30, 30, 30, 30, 30, 30, 30, 30, 30, 30, 30, 30, 30, 30, 30, 30, 30, 30, 30, 30, 30, 30, 30, 30, 30, 30, 30, 30, 30, 30, 30, 30, 30, 30, 30, 30, 30, 30, 30, 30, 30, 30, 30, 30, 30, 30, 30, 30, 30, 30, 30, 30, 30, 30, 30, 30, 30, 30, 30, 30, 30, 30, 30, 30, 30, 30, 30, 30, 30, 30, 30, 30, 30, 30, 30, 30, 30, 30, 30, 30, 30, 30, 30, 30, 30, 30, 30, 30, 30, 30, 30, 30, 30, 30, 30, 30, 30, 30, 30, 30, 30, 30, 30, 30, 30, 30, 30, 30, 30, 30, 30, 30]\n"
          ]
        }
      ],
      "source": [
        "print(forg_lengths_gray)"
      ]
    },
    {
      "cell_type": "markdown",
      "metadata": {
        "id": "crYPy7ulwjwM"
      },
      "source": [
        "#### Train-Validation-Test Split\n",
        "* Signatures of 80 people are used for training\n",
        "* Signatures of 20 people are used for validation\n",
        "* Signatures of 20 people are used for testing"
      ]
    },
    {
      "cell_type": "code",
      "execution_count": null,
      "metadata": {
        "id": "aI1dsEbNwjwS"
      },
      "outputs": [],
      "source": [
        "orig_train, orig_val, orig_test = orig_groups[:80], orig_groups[80:100], orig_groups[100:120]\n",
        "forg_train, forg_val, forg_test = forg_groups[:80], forg_groups[80:100], forg_groups[100:120]"
      ]
    },
    {
      "cell_type": "code",
      "execution_count": null,
      "metadata": {
        "id": "bOGXTKHHy4lw"
      },
      "outputs": [],
      "source": [
        "orig_train_gray, orig_val_gray, orig_test_gray = orig_groups_gray[:80], orig_groups_gray[80:100], orig_groups_gray[100:120]\n",
        "forg_train_gray, forg_val_gray, forg_test_gray = forg_groups_gray[:80], forg_groups_gray[80:100], forg_groups_gray[100:120]"
      ]
    },
    {
      "cell_type": "code",
      "execution_count": null,
      "metadata": {
        "id": "u2trVqOkwjwU"
      },
      "outputs": [],
      "source": [
        "# Delete unnecessary variables\n",
        "del orig_groups, forg_groups\n",
        "del orig_groups_gray, forg_groups_gray"
      ]
    },
    {
      "cell_type": "code",
      "execution_count": null,
      "metadata": {
        "id": "ly5-b6t2wjwW"
      },
      "outputs": [],
      "source": [
        "# All the images will be converted to the same size before processing\n",
        "img_h, img_w = 155, 220"
      ]
    },
    {
      "cell_type": "code",
      "execution_count": null,
      "metadata": {
        "id": "Z5UvUwT_wjwY"
      },
      "outputs": [],
      "source": [
        "def visualize_sample_signature():\n",
        "    '''Function to randomly select a signature from train set and\n",
        "    print two genuine copies and one forged copy'''\n",
        "    fig, (ax1, ax2, ax3, ax4, ax5, ax6) = plt.subplots(1, 6, figsize = (10, 10))\n",
        "    k = np.random.randint(len(orig_train))\n",
        "    j = np.random.randint(len(orig_train_gray))\n",
        "    orig_img_names = random.sample(orig_train[k], 2)\n",
        "    forg_img_name = random.sample(forg_train[k], 1)\n",
        "    orig_img_gray_names = random.sample(orig_train_gray[j], 2)\n",
        "    forg_img_gray_name = random.sample(forg_train_gray[j], 1)\n",
        "    orig_img1 = cv2.imread(orig_img_names[0], 0)\n",
        "    orig_img2 = cv2.imread(orig_img_names[1], 0)\n",
        "    orig_img_gray_2 = cv2.imread(orig_img_gray_names[1], 0)\n",
        "    orig_img_gray_1 = cv2.imread(orig_img_gray_names[0], 0)\n",
        "    forg_img = plt.imread(forg_img_name[0], 0)\n",
        "    forg_img_gray = plt.imread(forg_img_gray_name[0], 0)\n",
        "    orig_img1 = cv2.resize(orig_img1, (img_w, img_h))\n",
        "    orig_img2 = cv2.resize(orig_img2, (img_w, img_h))\n",
        "    forg_img = cv2.resize(forg_img, (img_w, img_h))\n",
        "    orig_img1 = cv2.resize(orig_img_gray_1, (img_w, img_h))\n",
        "    orig_img2 = cv2.resize(orig_img_gray_2, (img_w, img_h))\n",
        "    forg_img = cv2.resize(forg_img_gray, (img_w, img_h))\n",
        "\n",
        "    ax1.imshow(orig_img1, cmap = 'gray')\n",
        "    ax2.imshow(orig_img2, cmap = 'gray')\n",
        "    ax3.imshow(forg_img, cmap = 'gray')\n",
        "    ax4.imshow(orig_img_gray_1, cmap = 'gray')\n",
        "    ax5.imshow(orig_img_gray_2, cmap = 'gray')\n",
        "    ax6.imshow(forg_img_gray, cmap = 'gray')\n",
        "\n",
        "    ax1.set_title('Genuine Copy')\n",
        "    ax1.axis('off')\n",
        "    ax2.set_title('Genuine Copy')\n",
        "    ax2.axis('off')\n",
        "    ax3.set_title('Forged Copy')\n",
        "    ax3.axis('off')\n",
        "    ax4.set_title('Genuine')\n",
        "    ax4.axis('off')\n",
        "    ax5.set_title('Genuine')\n",
        "    ax5.axis('off')\n",
        "    ax6.set_title('Forged')\n",
        "    ax6.axis('off')"
      ]
    },
    {
      "cell_type": "code",
      "execution_count": null,
      "metadata": {
        "colab": {
          "base_uri": "https://localhost:8080/",
          "height": 103
        },
        "id": "rii3VD-qwjwa",
        "outputId": "ed5c87c5-1704-4731-83e1-4bd77db48cec"
      },
      "outputs": [
        {
          "output_type": "display_data",
          "data": {
            "text/plain": [
              "<Figure size 720x720 with 6 Axes>"
            ],
            "image/png": "[encoded data removed]"
          },
          "metadata": {
            "needs_background": "light"
          }
        }
      ],
      "source": [
        "visualize_sample_signature()"
      ]
    },
    {
      "cell_type": "code",
      "execution_count": null,
      "metadata": {
        "colab": {
          "base_uri": "https://localhost:8080/",
          "height": 103
        },
        "id": "c-5qR0v8wjwb",
        "outputId": "b75c84ec-2c6c-4c6a-8fa9-b1432dd998b0"
      },
      "outputs": [
        {
          "data": {
            "image/png": "[encoded data removed]",
            "text/plain": [
              "<Figure size 720x720 with 6 Axes>"
            ]
          },
          "metadata": {},
          "output_type": "display_data"
        }
      ],
      "source": [
        "visualize_sample_signature()"
      ]
    },
    {
      "cell_type": "code",
      "execution_count": null,
      "metadata": {
        "colab": {
          "base_uri": "https://localhost:8080/",
          "height": 103
        },
        "id": "h0Pc-8UBwjwc",
        "outputId": "b0f091f2-f027-4a16-c414-37cde4044a42"
      },
      "outputs": [
        {
          "data": {
            "image/png": "[encoded data removed]",
            "text/plain": [
              "<Figure size 720x720 with 6 Axes>"
            ]
          },
          "metadata": {},
          "output_type": "display_data"
        }
      ],
      "source": [
        "visualize_sample_signature()"
      ]
    },
    {
      "cell_type": "code",
      "execution_count": null,
      "metadata": {
        "id": "9-9eI_Aawjwe",
        "outputId": "f28a91e0-e9fd-44c0-b5ca-a5fc578cb9cf",
        "colab": {
          "base_uri": "https://localhost:8080/",
          "height": 103
        }
      },
      "outputs": [
        {
          "output_type": "display_data",
          "data": {
            "text/plain": [
              "<Figure size 720x720 with 6 Axes>"
            ],
            "image/png": "[encoded data removed]"
          },
          "metadata": {
            "needs_background": "light"
          }
        }
      ],
      "source": [
        "visualize_sample_signature()"
      ]
    },
    {
      "cell_type": "code",
      "execution_count": null,
      "metadata": {
        "colab": {
          "base_uri": "https://localhost:8080/",
          "height": 103
        },
        "id": "9weX9WT1wjwg",
        "outputId": "2e04a3dc-9e45-4e26-8741-0929d5e661b7"
      },
      "outputs": [
        {
          "data": {
            "image/png": "[encoded data removed]",
            "text/plain": [
              "<Figure size 720x720 with 6 Axes>"
            ]
          },
          "metadata": {},
          "output_type": "display_data"
        }
      ],
      "source": [
        "visualize_sample_signature()"
      ]
    },
    {
      "cell_type": "code",
      "source": [
        ""
      ],
      "metadata": {
        "id": "URNOwe8h5PCc"
      },
      "execution_count": null,
      "outputs": []
    },
    {
      "cell_type": "code",
      "execution_count": null,
      "metadata": {
        "id": "yziSbO8xwjwl"
      },
      "outputs": [],
      "source": [
        "def generate_batch(orig_groups, forg_groups,orig_groups_gray, forg_groups_gray, batch_size = 32):\n",
        "    '''Function to generate a batch of data with batch_size number of data points\n",
        "    Half of the data points will be Genuine-Genuine pairs and half will be Genuine-Forged pairs'''\n",
        "    while True:\n",
        "        orig_pairs = []\n",
        "        forg_pairs = []\n",
        "        orig_pairs_gray = []\n",
        "        forg_pairs_gray = []\n",
        "        gen_gen_labels = []\n",
        "        gen_for_labels = []\n",
        "        all_pairs = []\n",
        "        all_labels = []\n",
        "        all_gray = []\n",
        "        # Here we create pairs of Genuine-Genuine image names and Genuine-Forged image names\n",
        "        # For every person we have 24 genuine signatures, hence we have \n",
        "        # 24 choose 2 = 276 Genuine-Genuine image pairs for one person.\n",
        "        # To make Genuine-Forged pairs, we pair every Genuine signature of a person\n",
        "        # with 12 randomly sampled Forged signatures of the same person.\n",
        "        # Thus we make 24 * 12 = 300 Genuine-Forged image pairs for one person. 24 * 10 = 240\n",
        "        # In all we have 120 person's data in the training data.\n",
        "        # Total no. of Genuine-Genuine pairs = 120 * 276 = 33120\n",
        "        # Total number of Genuine-Forged pairs = 120 * 300 = 36000\n",
        "        # Total no. of data points = 33120 + 36000 = 69120\n",
        "        for orig, forg in zip(orig_groups, forg_groups):\n",
        "            orig_pairs.extend(list(itertools.combinations(orig, 2)))\n",
        "            for i in range(len(forg)):\n",
        "                forg_pairs.extend(list(itertools.product(orig[i:i+1], random.sample(forg, 10))))\n",
        "        for orig_gray, forg_gray in zip(orig_groups_gray, forg_groups_gray):\n",
        "            orig_pairs_gray.extend(list(itertools.combinations(orig_gray, 2)))\n",
        "            for i in range(len(forg_gray)):\n",
        "                forg_pairs_gray.extend(list(itertools.product(orig_gray[i:i+1], random.sample(forg_gray, 10))))\n",
        "        # Label for Genuine-Genuine pairs is 1\n",
        "        # Label for Genuine-Forged pairs is 0\n",
        "        gen_gen_labels = [1]*len(orig_pairs)\n",
        "        gen_for_labels = [0]*len(forg_pairs)\n",
        "        \n",
        "        # Concatenate all the pairs together along with their labels and shuffle them\n",
        "        all_pairs = orig_pairs + forg_pairs\n",
        "        all_gray = orig_pairs_gray + forg_pairs_gray\n",
        "        all_labels = gen_gen_labels + gen_for_labels\n",
        "        del orig_pairs, forg_pairs, gen_gen_labels, gen_for_labels\n",
        "        #all_pairs, all_labels = shuffle(all_pairs, all_labels)\n",
        "        \n",
        "        # Note the lists above contain only the image names and\n",
        "        # actual images are loaded and yielded below in batches\n",
        "        # Below we prepare a batch of data points and yield the batch\n",
        "        # In each batch we load \"batch_size\" number of image pairs\n",
        "        # These images are then removed from the original set so that\n",
        "        # they are not added again in the next batch.\n",
        "            \n",
        "        k = 0\n",
        "        pairs=[np.zeros((batch_size, img_h, img_w, 1)) for i in range(4)]\n",
        "        targets=np.zeros((batch_size,))\n",
        "        for ix, (pair,gray_pair) in enumerate(zip(all_pairs,all_gray)):\n",
        "            img1 = cv2.imread(pair[0], 0)\n",
        "            img2 = cv2.imread(pair[1], 0)\n",
        "            img3 = cv2.imread(gray_pair[0], 0)\n",
        "            img4 = cv2.imread(gray_pair[1], 0)\n",
        "            img1 = cv2.resize(img1, (img_w, img_h))\n",
        "            img2 = cv2.resize(img2, (img_w, img_h))\n",
        "            img3 = cv2.resize(img3, (img_w, img_h))\n",
        "            img4 = cv2.resize(img4, (img_w, img_h))\n",
        "            img1 = np.array(img1, dtype = np.float64)\n",
        "            img2 = np.array(img2, dtype = np.float64)\n",
        "            img3 = np.array(img3, dtype = np.float64)\n",
        "            img4 = np.array(img4, dtype = np.float64)\n",
        "            img1 /= 255\n",
        "            img2 /= 255\n",
        "            img3 /= 255\n",
        "            img4 /= 255\n",
        "            img1 = img1[..., np.newaxis]\n",
        "            img2 = img2[..., np.newaxis]\n",
        "            img3 = img3[..., np.newaxis]\n",
        "            img4 = img4[..., np.newaxis]\n",
        "            pairs[0][k, :, :, :] = img1\n",
        "            pairs[1][k, :, :, :] = img2\n",
        "            pairs[2][k, :, :, :] = img3\n",
        "            pairs[3][k, :, :, :] = img4\n",
        "            targets[k] = all_labels[ix]\n",
        "            k += 1\n",
        "            if k == batch_size:\n",
        "                yield pairs, targets\n",
        "                k = 0\n",
        "                pairs=[np.zeros((batch_size, img_h, img_w, 1)) for i in range(4)]\n",
        "                targets=np.zeros((batch_size,))"
      ]
    },
    {
      "cell_type": "code",
      "execution_count": null,
      "metadata": {
        "id": "wOQp1gTrwjwn"
      },
      "outputs": [],
      "source": [
        "def euclidean_distance(vects):\n",
        "    x, y = vects\n",
        "    return K.sqrt(K.sum(K.square(x - y), axis=1, keepdims=True))"
      ]
    },
    {
      "cell_type": "code",
      "execution_count": null,
      "metadata": {
        "id": "4Dxb5guOwjwo"
      },
      "outputs": [],
      "source": [
        "def eucl_dist_output_shape(shapes):\n",
        "    shape1, shape2 = shapes\n",
        "    return (shape1[0], 1)"
      ]
    },
    {
      "cell_type": "code",
      "execution_count": null,
      "metadata": {
        "id": "NyQFZgKWwjwp"
      },
      "outputs": [],
      "source": [
        "def contrastive_loss(y_true, y_pred):\n",
        "    \n",
        "    margin = 1\n",
        "    return K.mean(y_true * K.square(y_pred) + (1 - y_true) * K.square(K.maximum(margin - y_pred, 0)))"
      ]
    },
    {
      "cell_type": "code",
      "execution_count": null,
      "metadata": {
        "id": "-B4ukGrwwjwp"
      },
      "outputs": [],
      "source": [
        "def create_base_network_signet(input_shape):\n",
        "   \n",
        "    seq = Sequential()\n",
        "    seq.add(Conv2D(96, kernel_size=(11, 11), activation='relu', name='conv1_1', strides=4, input_shape= input_shape))\n",
        "    seq.add(BatchNormalization(epsilon=1e-06, axis=1, momentum=0.9))\n",
        "    seq.add(MaxPooling2D((3,3), strides=(2, 2)))    \n",
        "    seq.add(ZeroPadding2D((2, 2)))\n",
        "    \n",
        "    seq.add(Conv2D(256, kernel_size=(5, 5), activation='relu', name='conv2_1', strides=1))\n",
        "    seq.add(BatchNormalization(epsilon=1e-06, axis=1, momentum=0.9))\n",
        "    seq.add(MaxPooling2D((3,3), strides=(2, 2)))\n",
        "    seq.add(Dropout(0.3))# added extra\n",
        "    seq.add(ZeroPadding2D((1, 1)))\n",
        "    \n",
        "    seq.add(Conv2D(384, kernel_size=(3, 3), activation='relu', name='conv3_1', strides=1))\n",
        "    seq.add(ZeroPadding2D((1, 1)))\n",
        "    \n",
        "    seq.add(Conv2D(256, kernel_size=(3, 3), activation='relu', name='conv3_2', strides=1))    \n",
        "    seq.add(MaxPooling2D((3,3), strides=(2, 2)))\n",
        "    seq.add(Dropout(0.3))# added extra\n",
        "    seq.add(Flatten(name='flatten'))\n",
        "    seq.add(Dense(1024, activation='relu'))\n",
        "    seq.add(Dropout(0.5))\n",
        "    \n",
        "    seq.add(Dense(128, activation='relu')) \n",
        "    \n",
        "    return seq"
      ]
    },
    {
      "cell_type": "code",
      "execution_count": null,
      "metadata": {
        "id": "YPeYveJDwjwr"
      },
      "outputs": [],
      "source": [
        "input_shape=(img_h, img_w, 1)"
      ]
    },
    {
      "cell_type": "code",
      "execution_count": null,
      "metadata": {
        "id": "wObH7AHtwjws"
      },
      "outputs": [],
      "source": [
        "# network definition\n",
        "base_network = create_base_network_signet(input_shape)\n",
        "\n",
        "input_a = Input(shape=(input_shape))\n",
        "input_b = Input(shape=(input_shape))\n",
        "input_c = Input(shape=(input_shape))\n",
        "input_d = Input(shape=(input_shape))\n",
        "processed_a = base_network(input_a)\n",
        "processed_b = base_network(input_b)\n",
        "processed_c = base_network(input_c)\n",
        "processed_d = base_network(input_d)\n",
        "distance = Lambda(euclidean_distance, output_shape=eucl_dist_output_shape)([processed_a, processed_b])\n",
        "distance_gray = Lambda(euclidean_distance, output_shape=eucl_dist_output_shape)([processed_c, processed_d])\n",
        "distances = tf.keras.layers.Add()([distance,distance_gray])\n",
        "model = Model(inputs=[input_a, input_b,input_c, input_d], outputs=[distances])"
      ]
    },
    {
      "cell_type": "code",
      "execution_count": null,
      "metadata": {
        "colab": {
          "base_uri": "https://localhost:8080/"
        },
        "id": "IpZqo4jYQn0L",
        "outputId": "5222e4d3-103a-4919-cc14-e65f991334c2"
      },
      "outputs": [
        {
          "output_type": "stream",
          "name": "stdout",
          "text": [
            "Model: \"model\"\n",
            "__________________________________________________________________________________________________\n",
            " Layer (type)                   Output Shape         Param #     Connected to                     \n",
            "==================================================================================================\n",
            " input_1 (InputLayer)           [(None, 155, 220, 1  0           []                               \n",
            "                                )]                                                                \n",
            "                                                                                                  \n",
            " input_2 (InputLayer)           [(None, 155, 220, 1  0           []                               \n",
            "                                )]                                                                \n",
            "                                                                                                  \n",
            " input_3 (InputLayer)           [(None, 155, 220, 1  0           []                               \n",
            "                                )]                                                                \n",
            "                                                                                                  \n",
            " input_4 (InputLayer)           [(None, 155, 220, 1  0           []                               \n",
            "                                )]                                                                \n",
            "                                                                                                  \n",
            " sequential (Sequential)        (None, 128)          6461084     ['input_1[0][0]',                \n",
            "                                                                  'input_2[0][0]',                \n",
            "                                                                  'input_3[0][0]',                \n",
            "                                                                  'input_4[0][0]']                \n",
            "                                                                                                  \n",
            " lambda (Lambda)                (None, 1)            0           ['sequential[0][0]',             \n",
            "                                                                  'sequential[1][0]']             \n",
            "                                                                                                  \n",
            " lambda_1 (Lambda)              (None, 1)            0           ['sequential[2][0]',             \n",
            "                                                                  'sequential[3][0]']             \n",
            "                                                                                                  \n",
            " tf.__operators__.add (TFOpLamb  (None, 1)           0           ['lambda[0][0]',                 \n",
            " da)                                                              'lambda_1[0][0]']               \n",
            "                                                                                                  \n",
            "==================================================================================================\n",
            "Total params: 6,461,084\n",
            "Trainable params: 6,460,974\n",
            "Non-trainable params: 110\n",
            "__________________________________________________________________________________________________\n"
          ]
        }
      ],
      "source": [
        "model.summary()"
      ]
    },
    {
      "cell_type": "code",
      "execution_count": null,
      "metadata": {
        "colab": {
          "base_uri": "https://localhost:8080/"
        },
        "id": "NEA9PIcXQy0z",
        "outputId": "c9ca6de5-0b6e-4253-8b3c-ed91fa435a17"
      },
      "outputs": [
        {
          "output_type": "stream",
          "name": "stdout",
          "text": [
            "Model: \"sequential\"\n",
            "_________________________________________________________________\n",
            " Layer (type)                Output Shape              Param #   \n",
            "=================================================================\n",
            " conv1_1 (Conv2D)            (None, 37, 53, 96)        11712     \n",
            "                                                                 \n",
            " batch_normalization (BatchN  (None, 37, 53, 96)       148       \n",
            " ormalization)                                                   \n",
            "                                                                 \n",
            " max_pooling2d (MaxPooling2D  (None, 18, 26, 96)       0         \n",
            " )                                                               \n",
            "                                                                 \n",
            " zero_padding2d (ZeroPadding  (None, 22, 30, 96)       0         \n",
            " 2D)                                                             \n",
            "                                                                 \n",
            " conv2_1 (Conv2D)            (None, 18, 26, 256)       614656    \n",
            "                                                                 \n",
            " batch_normalization_1 (Batc  (None, 18, 26, 256)      72        \n",
            " hNormalization)                                                 \n",
            "                                                                 \n",
            " max_pooling2d_1 (MaxPooling  (None, 8, 12, 256)       0         \n",
            " 2D)                                                             \n",
            "                                                                 \n",
            " dropout (Dropout)           (None, 8, 12, 256)        0         \n",
            "                                                                 \n",
            " zero_padding2d_1 (ZeroPaddi  (None, 10, 14, 256)      0         \n",
            " ng2D)                                                           \n",
            "                                                                 \n",
            " conv3_1 (Conv2D)            (None, 8, 12, 384)        885120    \n",
            "                                                                 \n",
            " zero_padding2d_2 (ZeroPaddi  (None, 10, 14, 384)      0         \n",
            " ng2D)                                                           \n",
            "                                                                 \n",
            " conv3_2 (Conv2D)            (None, 8, 12, 256)        884992    \n",
            "                                                                 \n",
            " max_pooling2d_2 (MaxPooling  (None, 3, 5, 256)        0         \n",
            " 2D)                                                             \n",
            "                                                                 \n",
            " dropout_1 (Dropout)         (None, 3, 5, 256)         0         \n",
            "                                                                 \n",
            " flatten (Flatten)           (None, 3840)              0         \n",
            "                                                                 \n",
            " dense (Dense)               (None, 1024)              3933184   \n",
            "                                                                 \n",
            " dropout_2 (Dropout)         (None, 1024)              0         \n",
            "                                                                 \n",
            " dense_1 (Dense)             (None, 128)               131200    \n",
            "                                                                 \n",
            "=================================================================\n",
            "Total params: 6,461,084\n",
            "Trainable params: 6,460,974\n",
            "Non-trainable params: 110\n",
            "_________________________________________________________________\n"
          ]
        }
      ],
      "source": [
        "base_network.summary()"
      ]
    },
    {
      "cell_type": "code",
      "execution_count": null,
      "metadata": {
        "colab": {
          "base_uri": "https://localhost:8080/",
          "height": 260
        },
        "id": "Msdep55VKOAg",
        "outputId": "a7883ae1-0af7-4ede-a84d-a92cb8ae371f"
      },
      "outputs": [
        {
          "output_type": "execute_result",
          "data": {
            "text/plain": [
              "<IPython.core.display.Image object>"
            ],
            "image/png": "[encoded data removed]"
          },
          "metadata": {},
          "execution_count": 36
        }
      ],
      "source": [
        "from keras.models import Sequential\n",
        "from keras.utils.vis_utils import plot_model\n",
        "plot_model(model, to_file='model_plot.png', show_shapes=True,show_layer_names=True)"
      ]
    },
    {
      "cell_type": "code",
      "execution_count": null,
      "metadata": {
        "colab": {
          "base_uri": "https://localhost:8080/"
        },
        "id": "RhrK0GDFwjws",
        "outputId": "071c7bec-de37-4295-f09d-ec1fad614994"
      },
      "outputs": [
        {
          "output_type": "execute_result",
          "data": {
            "text/plain": [
              "(20640, 5160, 5160)"
            ]
          },
          "metadata": {},
          "execution_count": 59
        }
      ],
      "source": [
        "batch_sz = 128\n",
        "num_train_samples = 276*40 + 240*40 \n",
        "num_val_samples = num_test_samples = 276*10 + 240*10 \n",
        "num_train_samples, num_val_samples, num_test_samples"
      ]
    },
    {
      "cell_type": "code",
      "execution_count": null,
      "metadata": {
        "id": "pnCLMABxwjwt"
      },
      "outputs": [],
      "source": [
        "from keras.optimizers import adam_v2\n",
        "rms = adam_v2.Adam(learning_rate=0.001)\n",
        "model.compile(loss=contrastive_loss, optimizer=rms)"
      ]
    },
    {
      "cell_type": "code",
      "execution_count": null,
      "metadata": {
        "id": "vyA1X0Swwjwt"
      },
      "outputs": [],
      "source": [
        "# Using Keras Callbacks, save the model after every epoch\n",
        "# Reduce the learning rate by a factor of 0.1 if the validation loss does not improve for 5 epochs\n",
        "# Stop the training using early stopping if the validation loss does not improve for 12 epochs\n",
        "callbacks = [\n",
        "    EarlyStopping(patience=3, verbose=1),\n",
        "    ReduceLROnPlateau(factor=0.1, patience=5, min_lr=0.000001, verbose=1),\n",
        "    ModelCheckpoint('/content/drive/MyDrive/DL PROJECT /models/novel6-{epoch:03d}.h5', monitor='val_loss', verbose=1,save_best_only=True,save_weights_only=True,mode='min')\n",
        "] #260-{epoch:03d}"
      ]
    },
    {
      "cell_type": "markdown",
      "metadata": {
        "id": "mniW4wzpwjwv"
      },
      "source": [
        "#### After observing continuous fall in validation accuracy, I interrupted the training manually"
      ]
    },
    {
      "cell_type": "code",
      "execution_count": null,
      "metadata": {
        "id": "xjOa9lz9wjww"
      },
      "outputs": [],
      "source": [
        "def compute_accuracy_roc(predictions, labels):\n",
        "    '''Compute ROC accuracy with a range of thresholds on distances.\n",
        "    '''\n",
        "    dmax = np.max(predictions)\n",
        "    dmin = np.min(predictions)\n",
        "    nsame = np.sum(labels == 1)\n",
        "    ndiff = np.sum(labels == 0)\n",
        "   \n",
        "    step = 0.01\n",
        "    max_acc = 0\n",
        "    best_thresh = -1\n",
        "   \n",
        "    for d in np.arange(dmin, dmax+step, step):\n",
        "        idx1 = predictions.ravel() <= d\n",
        "        idx2 = predictions.ravel() > d\n",
        "       \n",
        "        tpr = float(np.sum(labels[idx1] == 1)) / nsame       \n",
        "        tnr = float(np.sum(labels[idx2] == 0)) / ndiff\n",
        "        acc = 0.5 * (tpr + tnr)       \n",
        "#       print ('ROC', acc, tpr, tnr)\n",
        "       \n",
        "        if (acc > max_acc):\n",
        "            max_acc, best_thresh = acc, d\n",
        "           \n",
        "    return max_acc, best_thresh"
      ]
    },
    {
      "cell_type": "markdown",
      "metadata": {
        "id": "9A267eMhwjww"
      },
      "source": [
        "#### Load the weights from the epoch which gave the best validation accuracy"
      ]
    },
    {
      "cell_type": "code",
      "execution_count": null,
      "metadata": {
        "id": "qI1kAB3mwjwx"
      },
      "outputs": [],
      "source": [
        "model.load_weights('/content/drive/MyDrive/DL PROJECT /models/novel5-003.h5')"
      ]
    },
    {
      "cell_type": "code",
      "execution_count": null,
      "metadata": {
        "id": "88EkIyrCwjwx"
      },
      "outputs": [],
      "source": [
        "test_gen = generate_batch(orig_train, forg_train,orig_train_gray, forg_train_gray, 1)\n",
        "pred, tr_y = [], []\n",
        "for i in range(num_test_samples):\n",
        "    (img1, img2,img3, img4), label = next(test_gen)\n",
        "    tr_y.append(label)\n",
        "    pred.append(model.predict([img1, img2,img3, img4])[0][0])"
      ]
    },
    {
      "cell_type": "code",
      "execution_count": null,
      "metadata": {
        "colab": {
          "base_uri": "https://localhost:8080/"
        },
        "id": "_AMbSfu3wjwy",
        "outputId": "14c4ed64-50eb-4d33-9067-471851afbdca"
      },
      "outputs": [
        {
          "output_type": "execute_result",
          "data": {
            "text/plain": [
              "(0.6697010869565218, 0.08133484799880535)"
            ]
          },
          "metadata": {},
          "execution_count": 52
        }
      ],
      "source": [
        "tr_acc, threshold = compute_accuracy_roc(np.array(pred), np.array(tr_y))\n",
        "tr_acc, threshold"
      ]
    },
    {
      "cell_type": "markdown",
      "metadata": {
        "id": "pTQT6a-BllUI"
      },
      "source": [
        "**Accuracy = 66.97% and Threshold = 0.08**\n",
        "\n",
        "\n",
        "\n"
      ]
    },
    {
      "cell_type": "code",
      "execution_count": null,
      "metadata": {
        "id": "adV-o2Itwjwz"
      },
      "outputs": [],
      "source": [
        "def predict_score():\n",
        "    '''Predict distance score and classify test images as Genuine or Forged'''\n",
        "    test_point, test_label = next(test_gen)\n",
        "    img1, img2, img3, img4 = test_point[0], test_point[1],test_point[2],test_point[3]\n",
        "    \n",
        "    fig, (ax1, ax2) = plt.subplots(1, 2, figsize = (10, 10))\n",
        "    ax1.imshow(np.squeeze(img1), cmap='gray')\n",
        "    ax2.imshow(np.squeeze(img2), cmap='gray')\n",
        "    ax2.imshow(np.squeeze(img3), cmap='gray')\n",
        "    ax2.imshow(np.squeeze(img4), cmap='gray')\n",
        "    ax1.set_title('Genuine')\n",
        "    if test_label == 1:\n",
        "        ax2.set_title('Genuine')\n",
        "    else:\n",
        "        ax2.set_title('Forged')\n",
        "    ax1.axis('off')\n",
        "    ax2.axis('off')\n",
        "    plt.show()\n",
        "    result = model.predict([img1, img2,img3,img4])\n",
        "    diff = result[0][0]\n",
        "    print(\"Difference Score = \", diff)\n",
        "    if diff > threshold:\n",
        "        print(\"Its a Forged Signature\")\n",
        "    else:\n",
        "        print(\"Its a Genuine Signature\")"
      ]
    },
    {
      "cell_type": "code",
      "execution_count": null,
      "metadata": {
        "colab": {
          "base_uri": "https://localhost:8080/",
          "height": 263
        },
        "id": "mTGstnVowjwz",
        "outputId": "5a847e7c-861f-414a-9c3b-8f8029ae6289"
      },
      "outputs": [
        {
          "output_type": "display_data",
          "data": {
            "text/plain": [
              "<Figure size 720x720 with 2 Axes>"
            ],
            "image/png": "[encoded data removed]"
          },
          "metadata": {
            "needs_background": "light"
          }
        },
        {
          "output_type": "stream",
          "name": "stdout",
          "text": [
            "Difference Score =  0.12939754\n",
            "Its a Forged Signature\n"
          ]
        }
      ],
      "source": [
        "predict_score()"
      ]
    },
    {
      "cell_type": "code",
      "execution_count": null,
      "metadata": {
        "colab": {
          "base_uri": "https://localhost:8080/",
          "height": 263
        },
        "id": "SRdpR6l5wjw1",
        "outputId": "82abd5c9-9eeb-4e8f-964d-219203306513"
      },
      "outputs": [
        {
          "data": {
            "image/png": "[encoded data removed]",
            "text/plain": [
              "<Figure size 720x720 with 2 Axes>"
            ]
          },
          "metadata": {},
          "output_type": "display_data"
        },
        {
          "name": "stdout",
          "output_type": "stream",
          "text": [
            "Difference Score =  0.014768401\n",
            "Its a Genuine Signature\n"
          ]
        }
      ],
      "source": [
        "predict_score()"
      ]
    }
  ],
  "metadata": {
    "accelerator": "GPU",
    "colab": {
      "collapsed_sections": [],
      "name": "21CSM2R02 SIGN VERIFICATION.ipynb",
      "provenance": []
    },
    "kernelspec": {
      "display_name": "Python 3",
      "name": "python3"
    },
    "language_info": {
      "name": "python"
    }
  },
  "nbformat": 4,
  "nbformat_minor": 0
}